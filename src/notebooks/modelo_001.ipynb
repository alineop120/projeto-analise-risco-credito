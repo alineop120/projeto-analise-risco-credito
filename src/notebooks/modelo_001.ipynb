{
 "cells": [
  {
   "cell_type": "code",
   "execution_count": null,
   "id": "1d17af5f",
   "metadata": {},
   "outputs": [],
   "source": [
    "from dataclasses import dataclass\n",
    "import pandas as pd\n",
    "import numpy as np\n",
    "import seaborn as sns\n",
    "import matplotlib.pyplot as plt\n",
    "\n",
    "from sklearn.model_selection import train_test_split, GridSearchCV, StratifiedKFold\n",
    "from sklearn.preprocessing import StandardScaler\n",
    "from sklearn.metrics import classification_report, confusion_matrix, roc_auc_score, roc_curve\n",
    "from sklearn.ensemble import RandomForestClassifier\n",
    "from xgboost import XGBClassifier\n",
    "from imblearn.over_sampling import SMOTE\n",
    "from imblearn.pipeline import Pipeline as ImbPipeline\n",
    "from sklearn.model_selection import RandomizedSearchCV\n",
    "from scipy.stats import uniform, randint\n",
    "import joblib\n",
    "\n",
    "import warnings\n",
    "warnings.filterwarnings(\"ignore\")\n",
    "sns.set(style=\"whitegrid\")\n"
   ]
  },
  {
   "cell_type": "code",
   "execution_count": null,
   "id": "28ab484f",
   "metadata": {},
   "outputs": [],
   "source": [
    "url = \"https://archive.ics.uci.edu/ml/machine-learning-databases/00350/default%20of%20credit%20card%20clients.xls\"\n",
    "df = pd.read_excel(url, header=1)\n",
    "df.rename(columns={\"default payment next month\": \"default\"}, inplace=True)\n",
    "df.head()\n"
   ]
  },
  {
   "cell_type": "markdown",
   "id": "6acebb2d",
   "metadata": {},
   "source": [
    "# Análise exploratória (EDA)"
   ]
  },
  {
   "cell_type": "code",
   "execution_count": null,
   "id": "90716228",
   "metadata": {},
   "outputs": [],
   "source": [
    "# Distribuição do alvo\n",
    "sns.countplot(x='default', data=df)\n",
    "plt.title('Distribuição de Inadimplentes')\n",
    "plt.show()\n",
    "\n",
    "# Correlação com a variável alvo\n",
    "correlations = df.corr(numeric_only=True)['default'].sort_values(ascending=False)\n",
    "print(\"Top correlações com 'default':\")\n",
    "print(correlations.head(10))\n"
   ]
  },
  {
   "cell_type": "code",
   "execution_count": null,
   "id": "a320d74f",
   "metadata": {},
   "outputs": [],
   "source": [
    "X = df.drop(columns=['ID', 'default'])\n",
    "y = df['default']\n",
    "\n",
    "# Divisão em treino e teste\n",
    "X_train, X_test, y_train, y_test = train_test_split(X, y, stratify=y, test_size=0.3, random_state=42)\n"
   ]
  },
  {
   "cell_type": "code",
   "execution_count": null,
   "id": "72671609",
   "metadata": {},
   "outputs": [],
   "source": [
    "# Pipeline com SMOTE, escalonamento e XGBoost\n",
    "pipeline = ImbPipeline(steps=[\n",
    "    ('smote', SMOTE(random_state=42)),\n",
    "    ('scaler', StandardScaler()),\n",
    "    ('classifier', XGBClassifier(\n",
    "        use_label_encoder=False,\n",
    "        eval_metric='logloss',\n",
    "        random_state=42,\n",
    "        tree_method='hist'\n",
    "    ))\n",
    "])\n",
    "\n",
    "# Reduzir o espaço de busca de hiperparâmetros\n",
    "param_dist = {\n",
    "    'classifier__n_estimators': randint(100, 500),\n",
    "    'classifier__max_depth': randint(4, 10),\n",
    "    'classifier__learning_rate': uniform(0.05, 0.15),\n",
    "    'classifier__subsample': uniform(0.7, 0.3),\n",
    "    'classifier__colsample_bytree': uniform(0.7, 0.3),\n",
    "    'classifier__gamma': uniform(0, 0.3),\n",
    "    'classifier__min_child_weight': randint(1, 5)\n",
    "}\n",
    "\n",
    "# Validação cruzada com menos folds\n",
    "cv = StratifiedKFold(n_splits=5, shuffle=True, random_state=42)\n",
    "\n",
    "random_search = RandomizedSearchCV(\n",
    "    pipeline,\n",
    "    param_distributions=param_dist,\n",
    "    scoring='accuracy',\n",
    "    cv=cv,\n",
    "    n_iter=50,  # Limitar para 50 combinações\n",
    "    n_jobs=-1,\n",
    "    verbose=1,\n",
    "    random_state=42\n",
    ")\n",
    "\n",
    "# Treinamento do modelo\n",
    "random_search.fit(X_train, y_train)\n",
    "\n",
    "# Resultados\n",
    "print(\"Melhores parâmetros encontrados:\")\n",
    "print(random_search.best_params_)\n",
    "\n"
   ]
  },
  {
   "cell_type": "code",
   "execution_count": null,
   "id": "601eaca7",
   "metadata": {},
   "outputs": [],
   "source": [
    "# Avaliação do modelo\n",
    "y_pred = random_search.predict(X_test)\n",
    "y_proba = random_search.predict_proba(X_test)[:, 1]\n",
    "\n",
    "print(classification_report(y_test, y_pred))\n",
    "print(f\"ROC AUC: {roc_auc_score(y_test, y_proba):.4f}\")\n",
    "\n",
    "# Matriz de Confusão\n",
    "sns.heatmap(confusion_matrix(y_test, y_pred), annot=True, fmt='d', cmap='Blues')\n",
    "plt.title('Matriz de Confusão')\n",
    "plt.show()"
   ]
  },
  {
   "cell_type": "code",
   "execution_count": null,
   "id": "044741b3",
   "metadata": {},
   "outputs": [],
   "source": [
    "import os\n",
    "\n",
    "# Criar o diretório se não existir\n",
    "os.makedirs(os.path.join('..', 'models'), exist_ok=True)\n",
    "\n",
    "# Salvando o modelo\n",
    "joblib.dump(random_search.best_estimator_, os.path.join('..', 'models', 'modelo_001.pkl'))\n",
    "print(\"Modelo salvo com sucesso em '/models/modelo_001.pkl'\")"
   ]
  }
 ],
 "metadata": {
  "kernelspec": {
   "display_name": ".venv",
   "language": "python",
   "name": "python3"
  },
  "language_info": {
   "codemirror_mode": {
    "name": "ipython",
    "version": 3
   },
   "file_extension": ".py",
   "mimetype": "text/x-python",
   "name": "python",
   "nbconvert_exporter": "python",
   "pygments_lexer": "ipython3",
   "version": "3.13.0"
  }
 },
 "nbformat": 4,
 "nbformat_minor": 5
}
