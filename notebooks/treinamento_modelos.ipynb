{
 "cells": [
  {
   "cell_type": "markdown",
   "id": "345c4eb4-7013-4646-8451-059711f7ffd2",
   "metadata": {},
   "source": [
    "# Treinamento de Modelos - Risco de Crédito\n",
    "\n",
    "Este notebook realiza o treinamento de modelos de classificação e avalia a performance com métricas padrão."
   ]
  },
  {
   "cell_type": "code",
   "execution_count": 9,
   "id": "f9039c33-efae-47bb-b08c-88089ae69efd",
   "metadata": {},
   "outputs": [
    {
     "name": "stdout",
     "output_type": "stream",
     "text": [
      "\n",
      "Modelo: Random Forest\n",
      "              precision    recall  f1-score   support\n",
      "\n",
      "           0       0.84      0.94      0.89      7040\n",
      "           1       0.62      0.36      0.46      1960\n",
      "\n",
      "    accuracy                           0.81      9000\n",
      "   macro avg       0.73      0.65      0.67      9000\n",
      "weighted avg       0.79      0.81      0.79      9000\n",
      "\n",
      "AUC-ROC: 0.7547\n",
      "\n",
      "Modelo: Regressão Logística\n",
      "              precision    recall  f1-score   support\n",
      "\n",
      "           0       0.82      0.97      0.89      7040\n",
      "           1       0.68      0.23      0.35      1960\n",
      "\n",
      "    accuracy                           0.81      9000\n",
      "   macro avg       0.75      0.60      0.62      9000\n",
      "weighted avg       0.79      0.81      0.77      9000\n",
      "\n",
      "AUC-ROC: 0.7230\n"
     ]
    },
    {
     "data": {
      "text/plain": [
       "['../resultados/modelos/colunas_treinamento.pkl']"
      ]
     },
     "execution_count": 9,
     "metadata": {},
     "output_type": "execute_result"
    }
   ],
   "source": [
    "import pandas as pd\n",
    "import joblib\n",
    "import os\n",
    "from sklearn.model_selection import train_test_split\n",
    "from sklearn.ensemble import RandomForestClassifier\n",
    "from sklearn.linear_model import LogisticRegression\n",
    "from sklearn.metrics import classification_report, roc_auc_score\n",
    "from sklearn.preprocessing import StandardScaler\n",
    "\n",
    "# Carregar dados\n",
    "dados = pd.read_csv('../dados/dados_credito_tratados.csv')\n",
    "\n",
    "# Remover coluna ID\n",
    "dados = dados.drop(columns=['ID'])\n",
    "\n",
    "# Separar variáveis\n",
    "X = dados.drop(columns=['inadimplente'])\n",
    "y = dados['inadimplente']\n",
    "\n",
    "# Dividir em treino/teste\n",
    "X_treino, X_teste, y_treino, y_teste = train_test_split(X, y, test_size=0.3, random_state=42)\n",
    "\n",
    "# Escalar os dados\n",
    "scaler = StandardScaler()\n",
    "X_treino = scaler.fit_transform(X_treino)\n",
    "X_teste = scaler.transform(X_teste)\n",
    "\n",
    "# Treinar modelos\n",
    "modelo_lr = LogisticRegression(solver='saga', penalty='l2', max_iter=10000)\n",
    "modelo_lr.fit(X_treino, y_treino)\n",
    "\n",
    "modelo_rf = RandomForestClassifier(n_estimators=100, random_state=42)\n",
    "modelo_rf.fit(X_treino, y_treino)\n",
    "\n",
    "# Avaliar modelos\n",
    "for nome, modelo in zip(['Random Forest', 'Regressão Logística'], [modelo_rf, modelo_lr]):\n",
    "    y_pred = modelo.predict(X_teste)\n",
    "    y_prob = modelo.predict_proba(X_teste)[:, 1]\n",
    "    print(f'\\nModelo: {nome}')\n",
    "    print(classification_report(y_teste, y_pred))\n",
    "    print(f'AUC-ROC: {roc_auc_score(y_teste, y_prob):.4f}')\n",
    "\n",
    "# Criar diretório se não existir\n",
    "os.makedirs('../resultados/modelos', exist_ok=True)\n",
    "\n",
    "# Salvar modelo Random Forest\n",
    "joblib.dump(modelo_rf, '../resultados/modelos/modelo_rf.pkl')\n",
    "\n",
    "# Salvar scaler (usado para regressão logística, e pode ser útil no app)\n",
    "joblib.dump(scaler, '../resultados/modelos/escalonador.pkl')\n",
    "joblib.dump(X.columns, '../resultados/modelos/colunas_treinamento.pkl')"
   ]
  },
  {
   "cell_type": "code",
   "execution_count": null,
   "id": "e3865554-8ce7-4431-bf18-7e562aa278a0",
   "metadata": {},
   "outputs": [],
   "source": []
  }
 ],
 "metadata": {
  "kernelspec": {
   "display_name": "Python 3 (ipykernel)",
   "language": "python",
   "name": "python3"
  },
  "language_info": {
   "codemirror_mode": {
    "name": "ipython",
    "version": 3
   },
   "file_extension": ".py",
   "mimetype": "text/x-python",
   "name": "python",
   "nbconvert_exporter": "python",
   "pygments_lexer": "ipython3",
   "version": "3.13.1"
  }
 },
 "nbformat": 4,
 "nbformat_minor": 5
}
