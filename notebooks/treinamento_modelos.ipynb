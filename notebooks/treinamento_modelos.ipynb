{
 "cells": [
  {
   "cell_type": "markdown",
   "id": "345c4eb4-7013-4646-8451-059711f7ffd2",
   "metadata": {},
   "source": [
    "# Treinamento de Modelos - Risco de Crédito\n",
    "\n",
    "Este notebook realiza o treinamento de modelos de classificação e avalia a performance com métricas padrão."
   ]
  },
  {
   "cell_type": "code",
   "execution_count": 1,
   "id": "55e95e42",
   "metadata": {},
   "outputs": [
    {
     "name": "stdout",
     "output_type": "stream",
     "text": [
      "Requirement already satisfied: pandas in c:\\users\\aline\\appdata\\local\\programs\\python\\python313\\lib\\site-packages (2.2.3)\n",
      "Requirement already satisfied: numpy>=1.26.0 in c:\\users\\aline\\appdata\\local\\programs\\python\\python313\\lib\\site-packages (from pandas) (2.2.5)\n",
      "Requirement already satisfied: python-dateutil>=2.8.2 in c:\\users\\aline\\appdata\\local\\programs\\python\\python313\\lib\\site-packages (from pandas) (2.9.0.post0)\n",
      "Requirement already satisfied: pytz>=2020.1 in c:\\users\\aline\\appdata\\local\\programs\\python\\python313\\lib\\site-packages (from pandas) (2025.2)\n",
      "Requirement already satisfied: tzdata>=2022.7 in c:\\users\\aline\\appdata\\local\\programs\\python\\python313\\lib\\site-packages (from pandas) (2025.2)\n",
      "Requirement already satisfied: six>=1.5 in c:\\users\\aline\\appdata\\local\\programs\\python\\python313\\lib\\site-packages (from python-dateutil>=2.8.2->pandas) (1.17.0)\n",
      "Note: you may need to restart the kernel to use updated packages.\n"
     ]
    },
    {
     "name": "stderr",
     "output_type": "stream",
     "text": [
      "\n",
      "[notice] A new release of pip is available: 25.0.1 -> 25.1.1\n",
      "[notice] To update, run: python.exe -m pip install --upgrade pip\n"
     ]
    },
    {
     "name": "stdout",
     "output_type": "stream",
     "text": [
      "Requirement already satisfied: joblib in c:\\users\\aline\\appdata\\local\\programs\\python\\python313\\lib\\site-packages (1.4.2)\n",
      "Note: you may need to restart the kernel to use updated packages.\n"
     ]
    },
    {
     "name": "stderr",
     "output_type": "stream",
     "text": [
      "\n",
      "[notice] A new release of pip is available: 25.0.1 -> 25.1.1\n",
      "[notice] To update, run: python.exe -m pip install --upgrade pip\n"
     ]
    },
    {
     "name": "stdout",
     "output_type": "stream",
     "text": [
      "Requirement already satisfied: scikit-learn in c:\\users\\aline\\appdata\\local\\programs\\python\\python313\\lib\\site-packages (1.6.1)\n",
      "Requirement already satisfied: numpy>=1.19.5 in c:\\users\\aline\\appdata\\local\\programs\\python\\python313\\lib\\site-packages (from scikit-learn) (2.2.5)\n",
      "Requirement already satisfied: scipy>=1.6.0 in c:\\users\\aline\\appdata\\local\\programs\\python\\python313\\lib\\site-packages (from scikit-learn) (1.15.2)\n",
      "Requirement already satisfied: joblib>=1.2.0 in c:\\users\\aline\\appdata\\local\\programs\\python\\python313\\lib\\site-packages (from scikit-learn) (1.4.2)\n",
      "Requirement already satisfied: threadpoolctl>=3.1.0 in c:\\users\\aline\\appdata\\local\\programs\\python\\python313\\lib\\site-packages (from scikit-learn) (3.6.0)\n",
      "Note: you may need to restart the kernel to use updated packages.\n"
     ]
    },
    {
     "name": "stderr",
     "output_type": "stream",
     "text": [
      "\n",
      "[notice] A new release of pip is available: 25.0.1 -> 25.1.1\n",
      "[notice] To update, run: python.exe -m pip install --upgrade pip\n"
     ]
    }
   ],
   "source": [
    "%pip install pandas\n",
    "%pip install joblib\n",
    "%pip install scikit-learn"
   ]
  },
  {
   "cell_type": "code",
   "execution_count": 10,
   "id": "f9039c33-efae-47bb-b08c-88089ae69efd",
   "metadata": {},
   "outputs": [
    {
     "name": "stdout",
     "output_type": "stream",
     "text": [
      "Resultados do Gradient Boosting:\n",
      "Acurácia: 0.6082\n",
      "Recall (Classe 1): 0.7883\n",
      "AUC-ROC: 0.7683\n",
      "--------------------------------------------------\n",
      "Resultados do Random Forest:\n",
      "Acurácia: 0.6707\n",
      "Recall (Classe 1): 0.6931\n",
      "AUC-ROC: 0.7501\n",
      "--------------------------------------------------\n",
      "Resultados da Regressão Logística:\n",
      "Acurácia: 0.3848\n",
      "Recall (Classe 1): 0.8949\n",
      "AUC-ROC: 0.7323\n"
     ]
    },
    {
     "data": {
      "text/plain": [
       "['../resultados/modelos/modelo_lr.pkl']"
      ]
     },
     "execution_count": 10,
     "metadata": {},
     "output_type": "execute_result"
    }
   ],
   "source": [
    "# Importar as bibliotecas necessárias\n",
    "import pandas as pd\n",
    "import joblib\n",
    "from sklearn.model_selection import train_test_split\n",
    "from sklearn.ensemble import GradientBoostingClassifier, RandomForestClassifier\n",
    "from sklearn.linear_model import LogisticRegression\n",
    "from sklearn.metrics import classification_report, roc_auc_score, accuracy_score\n",
    "from sklearn.preprocessing import StandardScaler\n",
    "from imblearn.over_sampling import SMOTE\n",
    "import os\n",
    "\n",
    "# Carregar os dados\n",
    "dados = pd.read_csv('../dados/dados_credito_tratados.csv')\n",
    "\n",
    "# Remover coluna ID\n",
    "dados = dados.drop(columns=['ID'])\n",
    "\n",
    "# Separar variáveis\n",
    "X = dados.drop(columns=['inadimplente'])\n",
    "y = dados['inadimplente']\n",
    "\n",
    "# Dividir em treino/teste\n",
    "X_treino, X_teste, y_treino, y_teste = train_test_split(X, y, test_size=0.2, random_state=42)\n",
    "\n",
    "# Escalar os dados\n",
    "scaler = StandardScaler()\n",
    "X_treino = scaler.fit_transform(X_treino)\n",
    "X_teste = scaler.transform(X_teste)\n",
    "\n",
    "# Balanceamento de classes usando SMOTE\n",
    "smote = SMOTE(random_state=42)\n",
    "X_treino_balanceado, y_treino_balanceado = smote.fit_resample(X_treino, y_treino)\n",
    "\n",
    "# Treinamento do modelo Gradient Boosting\n",
    "modelo_gbm = GradientBoostingClassifier(n_estimators=100, random_state=42)\n",
    "modelo_gbm.fit(X_treino_balanceado, y_treino_balanceado)\n",
    "\n",
    "# Treinamento do modelo Random Forest\n",
    "modelo_rf = RandomForestClassifier(n_estimators=100, random_state=42)\n",
    "modelo_rf.fit(X_treino_balanceado, y_treino_balanceado)\n",
    "\n",
    "# Treinamento do modelo Regressão Logística\n",
    "modelo_lr = LogisticRegression(solver='saga', penalty='l2', max_iter=10000)\n",
    "modelo_lr.fit(X_treino_balanceado, y_treino_balanceado)\n",
    "\n",
    "# Função para avaliar o modelo com o threshold\n",
    "def avaliar_modelo(modelo, X_teste, y_teste, threshold=0.3):\n",
    "    y_prob = modelo.predict_proba(X_teste)[:, 1]\n",
    "    y_pred = (y_prob > threshold).astype(int)\n",
    "    acuracia = accuracy_score(y_teste, y_pred)\n",
    "    recall = classification_report(y_teste, y_pred, output_dict=True)['1']['recall']\n",
    "    auc_roc = roc_auc_score(y_teste, y_prob)\n",
    "    return acuracia, recall, auc_roc, y_pred\n",
    "\n",
    "# Avaliar o modelo Gradient Boosting com threshold 0.3\n",
    "acuracia_gbm, recall_gbm, auc_roc_gbm, y_pred_gbm = avaliar_modelo(modelo_gbm, X_teste, y_teste, threshold=0.3)\n",
    "\n",
    "# Avaliar o modelo Random Forest com threshold 0.3\n",
    "acuracia_rf, recall_rf, auc_roc_rf, y_pred_rf = avaliar_modelo(modelo_rf, X_teste, y_teste, threshold=0.3)\n",
    "\n",
    "# Avaliar o modelo Regressão Logística com threshold 0.3\n",
    "acuracia_lr, recall_lr, auc_roc_lr, y_pred_lr = avaliar_modelo(modelo_lr, X_teste, y_teste, threshold=0.3)\n",
    "\n",
    "# Exibir os resultados para todos os modelos\n",
    "print(f\"Resultados do Gradient Boosting:\")\n",
    "print(f\"Acurácia: {acuracia_gbm:.4f}\")\n",
    "print(f\"Recall (Classe 1): {recall_gbm:.4f}\")\n",
    "print(f\"AUC-ROC: {auc_roc_gbm:.4f}\")\n",
    "print(\"--------------------------------------------------\")\n",
    "print(f\"Resultados do Random Forest:\")\n",
    "print(f\"Acurácia: {acuracia_rf:.4f}\")\n",
    "print(f\"Recall (Classe 1): {recall_rf:.4f}\")\n",
    "print(f\"AUC-ROC: {auc_roc_rf:.4f}\")\n",
    "print(\"--------------------------------------------------\")\n",
    "print(f\"Resultados da Regressão Logística:\")\n",
    "print(f\"Acurácia: {acuracia_lr:.4f}\")\n",
    "print(f\"Recall (Classe 1): {recall_lr:.4f}\")\n",
    "print(f\"AUC-ROC: {auc_roc_lr:.4f}\")\n",
    "\n",
    "# Salvar os modelos treinados\n",
    "os.makedirs('../resultados/modelos', exist_ok=True)\n",
    "joblib.dump(modelo_gbm, '../resultados/modelos/modelo_gbm.pkl')\n",
    "joblib.dump(modelo_rf, '../resultados/modelos/modelo_rf.pkl')\n",
    "joblib.dump(modelo_lr, '../resultados/modelos/modelo_lr.pkl')\n",
    "\n"
   ]
  }
 ],
 "metadata": {
  "kernelspec": {
   "display_name": "Python 3",
   "language": "python",
   "name": "python3"
  },
  "language_info": {
   "codemirror_mode": {
    "name": "ipython",
    "version": 3
   },
   "file_extension": ".py",
   "mimetype": "text/x-python",
   "name": "python",
   "nbconvert_exporter": "python",
   "pygments_lexer": "ipython3",
   "version": "3.13.1"
  }
 },
 "nbformat": 4,
 "nbformat_minor": 5
}
