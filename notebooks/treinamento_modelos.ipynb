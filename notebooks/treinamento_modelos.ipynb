{
 "cells": [
  {
   "cell_type": "markdown",
   "id": "345c4eb4-7013-4646-8451-059711f7ffd2",
   "metadata": {},
   "source": [
    "# Treinamento de Modelos - Risco de Crédito\n",
    "\n",
    "Este notebook realiza o treinamento de modelos de classificação e avalia a performance com métricas padrão."
   ]
  },
  {
   "cell_type": "code",
   "execution_count": 1,
   "id": "55e95e42",
   "metadata": {},
   "outputs": [
    {
     "name": "stdout",
     "output_type": "stream",
     "text": [
      "Defaulting to user installation because normal site-packages is not writeable\n",
      "Requirement already satisfied: pandas in c:\\users\\aline.pinho\\appdata\\roaming\\python\\python313\\site-packages (2.2.3)\n",
      "Requirement already satisfied: numpy>=1.26.0 in c:\\users\\aline.pinho\\appdata\\roaming\\python\\python313\\site-packages (from pandas) (2.2.5)\n",
      "Requirement already satisfied: python-dateutil>=2.8.2 in c:\\users\\aline.pinho\\appdata\\roaming\\python\\python313\\site-packages (from pandas) (2.9.0.post0)\n",
      "Requirement already satisfied: pytz>=2020.1 in c:\\users\\aline.pinho\\appdata\\roaming\\python\\python313\\site-packages (from pandas) (2025.2)\n",
      "Requirement already satisfied: tzdata>=2022.7 in c:\\users\\aline.pinho\\appdata\\roaming\\python\\python313\\site-packages (from pandas) (2025.2)\n",
      "Requirement already satisfied: six>=1.5 in c:\\users\\aline.pinho\\appdata\\roaming\\python\\python313\\site-packages (from python-dateutil>=2.8.2->pandas) (1.17.0)\n",
      "Note: you may need to restart the kernel to use updated packages.\n"
     ]
    },
    {
     "name": "stderr",
     "output_type": "stream",
     "text": [
      "\n",
      "[notice] A new release of pip is available: 24.2 -> 25.1.1\n",
      "[notice] To update, run: python.exe -m pip install --upgrade pip\n"
     ]
    },
    {
     "name": "stdout",
     "output_type": "stream",
     "text": [
      "Defaulting to user installation because normal site-packages is not writeable\n",
      "Collecting joblib\n",
      "  Downloading joblib-1.5.0-py3-none-any.whl.metadata (5.6 kB)\n",
      "Downloading joblib-1.5.0-py3-none-any.whl (307 kB)\n",
      "Installing collected packages: joblib\n",
      "Successfully installed joblib-1.5.0\n",
      "Note: you may need to restart the kernel to use updated packages.\n"
     ]
    },
    {
     "name": "stderr",
     "output_type": "stream",
     "text": [
      "\n",
      "[notice] A new release of pip is available: 24.2 -> 25.1.1\n",
      "[notice] To update, run: python.exe -m pip install --upgrade pip\n"
     ]
    },
    {
     "name": "stdout",
     "output_type": "stream",
     "text": [
      "Defaulting to user installation because normal site-packages is not writeable\n",
      "Collecting scikit-learn\n",
      "  Downloading scikit_learn-1.6.1-cp313-cp313-win_amd64.whl.metadata (15 kB)\n",
      "Requirement already satisfied: numpy>=1.19.5 in c:\\users\\aline.pinho\\appdata\\roaming\\python\\python313\\site-packages (from scikit-learn) (2.2.5)\n",
      "Collecting scipy>=1.6.0 (from scikit-learn)\n",
      "  Downloading scipy-1.15.3-cp313-cp313-win_amd64.whl.metadata (60 kB)\n",
      "Requirement already satisfied: joblib>=1.2.0 in c:\\users\\aline.pinho\\appdata\\roaming\\python\\python313\\site-packages (from scikit-learn) (1.5.0)\n",
      "Collecting threadpoolctl>=3.1.0 (from scikit-learn)\n",
      "  Downloading threadpoolctl-3.6.0-py3-none-any.whl.metadata (13 kB)\n",
      "Downloading scikit_learn-1.6.1-cp313-cp313-win_amd64.whl (11.1 MB)\n",
      "   ---------------------------------------- 0.0/11.1 MB ? eta -:--:--\n",
      "   --------- ------------------------------ 2.6/11.1 MB 13.8 MB/s eta 0:00:01\n",
      "   -------------------- ------------------- 5.8/11.1 MB 14.1 MB/s eta 0:00:01\n",
      "   ---------------------------- ----------- 7.9/11.1 MB 12.7 MB/s eta 0:00:01\n",
      "   -------------------------------------- - 10.7/11.1 MB 13.2 MB/s eta 0:00:01\n",
      "   ---------------------------------------- 11.1/11.1 MB 12.9 MB/s eta 0:00:00\n",
      "Downloading scipy-1.15.3-cp313-cp313-win_amd64.whl (41.0 MB)\n",
      "   ---------------------------------------- 0.0/41.0 MB ? eta -:--:--\n",
      "   - -------------------------------------- 1.8/41.0 MB 14.3 MB/s eta 0:00:03\n",
      "   -- ------------------------------------- 2.4/41.0 MB 6.7 MB/s eta 0:00:06\n",
      "   --- ------------------------------------ 3.1/41.0 MB 4.9 MB/s eta 0:00:08\n",
      "   --- ------------------------------------ 3.9/41.0 MB 4.7 MB/s eta 0:00:08\n",
      "   ---- ----------------------------------- 4.7/41.0 MB 4.6 MB/s eta 0:00:08\n",
      "   ----- ---------------------------------- 5.5/41.0 MB 4.3 MB/s eta 0:00:09\n",
      "   ------ --------------------------------- 6.3/41.0 MB 4.3 MB/s eta 0:00:09\n",
      "   ------ --------------------------------- 7.1/41.0 MB 4.1 MB/s eta 0:00:09\n",
      "   ------- -------------------------------- 7.6/41.0 MB 4.1 MB/s eta 0:00:09\n",
      "   ------- -------------------------------- 8.1/41.0 MB 4.0 MB/s eta 0:00:09\n",
      "   -------- ------------------------------- 8.7/41.0 MB 3.8 MB/s eta 0:00:09\n",
      "   -------- ------------------------------- 9.2/41.0 MB 3.7 MB/s eta 0:00:09\n",
      "   --------- ------------------------------ 9.7/41.0 MB 3.6 MB/s eta 0:00:09\n",
      "   --------- ------------------------------ 10.2/41.0 MB 3.5 MB/s eta 0:00:09\n",
      "   ---------- ----------------------------- 10.5/41.0 MB 3.4 MB/s eta 0:00:09\n",
      "   ---------- ----------------------------- 10.7/41.0 MB 3.2 MB/s eta 0:00:10\n",
      "   ---------- ----------------------------- 11.0/41.0 MB 3.1 MB/s eta 0:00:10\n",
      "   ----------- ---------------------------- 11.3/41.0 MB 3.0 MB/s eta 0:00:10\n",
      "   ----------- ---------------------------- 11.5/41.0 MB 2.9 MB/s eta 0:00:11\n",
      "   ----------- ---------------------------- 12.1/41.0 MB 2.8 MB/s eta 0:00:11\n",
      "   ------------ --------------------------- 12.6/41.0 MB 2.8 MB/s eta 0:00:11\n",
      "   ------------ --------------------------- 13.1/41.0 MB 2.8 MB/s eta 0:00:10\n",
      "   ------------- -------------------------- 13.6/41.0 MB 2.8 MB/s eta 0:00:10\n",
      "   ------------- -------------------------- 13.9/41.0 MB 2.8 MB/s eta 0:00:10\n",
      "   ------------- -------------------------- 14.2/41.0 MB 2.8 MB/s eta 0:00:10\n",
      "   -------------- ------------------------- 14.7/41.0 MB 2.7 MB/s eta 0:00:10\n",
      "   --------------- ------------------------ 15.5/41.0 MB 2.7 MB/s eta 0:00:10\n",
      "   --------------- ------------------------ 16.3/41.0 MB 2.7 MB/s eta 0:00:10\n",
      "   ---------------- ----------------------- 17.0/41.0 MB 2.8 MB/s eta 0:00:09\n",
      "   ----------------- ---------------------- 18.1/41.0 MB 2.8 MB/s eta 0:00:09\n",
      "   ------------------ --------------------- 19.1/41.0 MB 2.9 MB/s eta 0:00:08\n",
      "   ------------------ --------------------- 19.4/41.0 MB 2.9 MB/s eta 0:00:08\n",
      "   ------------------- -------------------- 20.2/41.0 MB 2.9 MB/s eta 0:00:08\n",
      "   -------------------- ------------------- 21.0/41.0 MB 2.9 MB/s eta 0:00:07\n",
      "   --------------------- ------------------ 21.8/41.0 MB 2.9 MB/s eta 0:00:07\n",
      "   ---------------------- ----------------- 22.5/41.0 MB 3.0 MB/s eta 0:00:07\n",
      "   ----------------------- ---------------- 23.6/41.0 MB 3.0 MB/s eta 0:00:06\n",
      "   ------------------------ --------------- 24.6/41.0 MB 3.0 MB/s eta 0:00:06\n",
      "   ------------------------- -------------- 25.7/41.0 MB 3.1 MB/s eta 0:00:05\n",
      "   -------------------------- ------------- 27.0/41.0 MB 3.2 MB/s eta 0:00:05\n",
      "   --------------------------- ------------ 28.3/41.0 MB 3.2 MB/s eta 0:00:04\n",
      "   ---------------------------- ----------- 29.1/41.0 MB 3.3 MB/s eta 0:00:04\n",
      "   ----------------------------- ---------- 29.9/41.0 MB 3.3 MB/s eta 0:00:04\n",
      "   ----------------------------- ---------- 30.7/41.0 MB 3.3 MB/s eta 0:00:04\n",
      "   ------------------------------ --------- 31.7/41.0 MB 3.3 MB/s eta 0:00:03\n",
      "   ------------------------------- -------- 32.8/41.0 MB 3.4 MB/s eta 0:00:03\n",
      "   --------------------------------- ------ 33.8/41.0 MB 3.4 MB/s eta 0:00:03\n",
      "   ---------------------------------- ----- 35.1/41.0 MB 3.4 MB/s eta 0:00:02\n",
      "   ---------------------------------- ----- 35.4/41.0 MB 3.4 MB/s eta 0:00:02\n",
      "   ----------------------------------- ---- 36.4/41.0 MB 3.4 MB/s eta 0:00:02\n",
      "   ------------------------------------ --- 37.7/41.0 MB 3.5 MB/s eta 0:00:01\n",
      "   ------------------------------------- -- 38.8/41.0 MB 3.5 MB/s eta 0:00:01\n",
      "   ---------------------------------------  40.1/41.0 MB 3.6 MB/s eta 0:00:01\n",
      "   ---------------------------------------- 41.0/41.0 MB 3.6 MB/s eta 0:00:00\n",
      "Downloading threadpoolctl-3.6.0-py3-none-any.whl (18 kB)\n",
      "Installing collected packages: threadpoolctl, scipy, scikit-learn\n",
      "Successfully installed scikit-learn-1.6.1 scipy-1.15.3 threadpoolctl-3.6.0\n",
      "Note: you may need to restart the kernel to use updated packages.\n"
     ]
    },
    {
     "name": "stderr",
     "output_type": "stream",
     "text": [
      "\n",
      "[notice] A new release of pip is available: 24.2 -> 25.1.1\n",
      "[notice] To update, run: python.exe -m pip install --upgrade pip\n"
     ]
    }
   ],
   "source": [
    "%pip install pandas\n",
    "%pip install joblib\n",
    "%pip install scikit-learn"
   ]
  },
  {
   "cell_type": "code",
   "execution_count": 13,
   "id": "f9039c33-efae-47bb-b08c-88089ae69efd",
   "metadata": {},
   "outputs": [
    {
     "name": "stdout",
     "output_type": "stream",
     "text": [
      "Média da Acurácia com Cross-Validation para Random Forest: 0.8161\n",
      "Média da Acurácia com Cross-Validation para Regressão Logística: 0.8100\n",
      "\n",
      "Modelo: Random Forest\n",
      "Acurácia: 0.6682\n",
      "              precision    recall  f1-score   support\n",
      "\n",
      "           0       0.89      0.66      0.76      4687\n",
      "           1       0.36      0.70      0.48      1313\n",
      "\n",
      "    accuracy                           0.67      6000\n",
      "   macro avg       0.63      0.68      0.62      6000\n",
      "weighted avg       0.77      0.67      0.70      6000\n",
      "\n",
      "AUC-ROC: 0.7507\n",
      "\n",
      "Modelo: Regressão Logística\n",
      "Acurácia: 0.3850\n",
      "              precision    recall  f1-score   support\n",
      "\n",
      "           0       0.89      0.24      0.38      4687\n",
      "           1       0.25      0.89      0.39      1313\n",
      "\n",
      "    accuracy                           0.39      6000\n",
      "   macro avg       0.57      0.57      0.38      6000\n",
      "weighted avg       0.75      0.39      0.38      6000\n",
      "\n",
      "AUC-ROC: 0.7323\n"
     ]
    },
    {
     "data": {
      "text/plain": [
       "['../resultados/modelos/colunas_treinamento.pkl']"
      ]
     },
     "execution_count": 13,
     "metadata": {},
     "output_type": "execute_result"
    }
   ],
   "source": [
    "# Importando as bibliotecas necessárias\n",
    "import pandas as pd\n",
    "import joblib\n",
    "from sklearn.model_selection import train_test_split, cross_val_score\n",
    "from sklearn.ensemble import RandomForestClassifier\n",
    "from sklearn.linear_model import LogisticRegression\n",
    "from sklearn.metrics import classification_report, roc_auc_score, accuracy_score\n",
    "from sklearn.preprocessing import StandardScaler\n",
    "from imblearn.over_sampling import SMOTE\n",
    "import os\n",
    "\n",
    "# Carregar dados\n",
    "dados = pd.read_csv('../dados/dados_credito_tratados.csv')\n",
    "\n",
    "# Remover coluna ID\n",
    "dados = dados.drop(columns=['ID'])\n",
    "\n",
    "# Separar variáveis\n",
    "X = dados.drop(columns=['inadimplente'])\n",
    "y = dados['inadimplente']\n",
    "\n",
    "# Dividir em treino/teste\n",
    "X_treino, X_teste, y_treino, y_teste = train_test_split(X, y, test_size=0.2, random_state=42)\n",
    "\n",
    "# Escalar os dados\n",
    "scaler = StandardScaler()\n",
    "X_treino = scaler.fit_transform(X_treino)\n",
    "X_teste = scaler.transform(X_teste)\n",
    "\n",
    "# Balanceamento de classes usando SMOTE\n",
    "smote = SMOTE(random_state=42)\n",
    "X_treino_balanceado, y_treino_balanceado = smote.fit_resample(X_treino, y_treino)\n",
    "\n",
    "# Treinar os modelos\n",
    "modelo_lr = LogisticRegression(solver='saga', penalty='l2', max_iter=10000)\n",
    "modelo_lr.fit(X_treino_balanceado, y_treino_balanceado)\n",
    "\n",
    "modelo_rf = RandomForestClassifier(n_estimators=100, random_state=42)\n",
    "modelo_rf.fit(X_treino_balanceado, y_treino_balanceado)\n",
    "\n",
    "# Avaliar os modelos com cross-validation\n",
    "cv_scores_rf = cross_val_score(modelo_rf, X_treino, y_treino, cv=5, scoring='accuracy')\n",
    "cv_scores_lr = cross_val_score(modelo_lr, X_treino, y_treino, cv=5, scoring='accuracy')\n",
    "\n",
    "print(f'Média da Acurácia com Cross-Validation para Random Forest: {cv_scores_rf.mean():.4f}')\n",
    "print(f'Média da Acurácia com Cross-Validation para Regressão Logística: {cv_scores_lr.mean():.4f}')\n",
    "\n",
    "# Ajustar o threshold de decisão (aqui estamos ajustando para 0.3, mas você pode experimentar outros valores)\n",
    "threshold = 0.3\n",
    "y_pred_rf = (modelo_rf.predict_proba(X_teste)[:, 1] > threshold).astype(int)\n",
    "y_pred_lr = (modelo_lr.predict_proba(X_teste)[:, 1] > threshold).astype(int)\n",
    "\n",
    "# Avaliar os modelos\n",
    "for nome, modelo, y_pred in zip(['Random Forest', 'Regressão Logística'], [modelo_rf, modelo_lr], [y_pred_rf, y_pred_lr]):\n",
    "    y_prob = modelo.predict_proba(X_teste)[:, 1]\n",
    "    print(f'\\nModelo: {nome}')\n",
    "    print(f'Acurácia: {accuracy_score(y_teste, y_pred):.4f}')\n",
    "    print(classification_report(y_teste, y_pred))\n",
    "    print(f'AUC-ROC: {roc_auc_score(y_teste, y_prob):.4f}')\n",
    "\n",
    "# Criar diretório para salvar os modelos se não existir\n",
    "os.makedirs('../resultados/modelos', exist_ok=True)\n",
    "\n",
    "# Salvando os modelos e o escalonador\n",
    "joblib.dump(modelo_rf, '../resultados/modelos/modelo_rf.pkl')\n",
    "joblib.dump(modelo_lr, '../resultados/modelos/modelo_lr.pkl')\n",
    "joblib.dump(scaler, '../resultados/modelos/escalonador.pkl')\n",
    "\n",
    "# Salvando os nomes das colunas usadas no treinamento\n",
    "joblib.dump(X.columns, '../resultados/modelos/colunas_treinamento.pkl')\n"
   ]
  }
 ],
 "metadata": {
  "kernelspec": {
   "display_name": "Python 3",
   "language": "python",
   "name": "python3"
  },
  "language_info": {
   "codemirror_mode": {
    "name": "ipython",
    "version": 3
   },
   "file_extension": ".py",
   "mimetype": "text/x-python",
   "name": "python",
   "nbconvert_exporter": "python",
   "pygments_lexer": "ipython3",
   "version": "3.13.0"
  }
 },
 "nbformat": 4,
 "nbformat_minor": 5
}
