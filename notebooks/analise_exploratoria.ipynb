{
 "cells": [
  {
   "cell_type": "markdown",
   "id": "ae38ecb2-d73d-41b8-849e-9c19665c3b8b",
   "metadata": {},
   "source": [
    "# Análise Exploratória de Dados - Risco de Crédito\n",
    "\n",
    "Este notebook realiza a análise inicial dos dados, incluindo tratamento de valores ausentes, visualizações e preparação inicial para modelagem."
   ]
  },
  {
   "cell_type": "code",
   "execution_count": null,
   "id": "ad8a4855",
   "metadata": {},
   "outputs": [],
   "source": [
    "%pip install pandas\n",
    "%pip install seaborn\n",
    "%pip install matplotlib"
   ]
  },
  {
   "cell_type": "code",
   "execution_count": null,
   "id": "14f69f49-9e5d-400d-acfb-c47557270acf",
   "metadata": {},
   "outputs": [],
   "source": [
    "# Imports\n",
    "import pandas as pd\n",
    "import seaborn as sns\n",
    "import matplotlib.pyplot as plt\n",
    "\n",
    "# Leitura dos dados\n",
    "dados = pd.read_csv('../dados/UCI_Credit_Card.csv')\n",
    "\n",
    "# Renomear a variável alvo\n",
    "dados.rename(columns={'default.payment.next.month': 'inadimplente'}, inplace=True)\n",
    "\n",
    "# Informações iniciais\n",
    "print(dados.shape)\n",
    "print(dados.info())\n",
    "\n",
    "# Estatísticas descritivas\n",
    "print(dados.describe())\n",
    "\n",
    "# Distribuição da variável alvo\n",
    "sns.countplot(x='inadimplente', data=dados)\n",
    "plt.title('Distribuição de inadimplentes')\n",
    "plt.show()\n",
    "\n",
    "# Boxplot da idade\n",
    "sns.boxplot(x=dados['AGE'])\n",
    "plt.title('Distribuição da idade')\n",
    "plt.show()\n",
    "\n",
    "# Correlação\n",
    "corr = dados.corr(numeric_only=True)\n",
    "sns.heatmap(corr[['inadimplente']].sort_values(by='inadimplente', ascending=False), annot=True, cmap='coolwarm')\n",
    "plt.title('Correlação com inadimplência')\n",
    "plt.show()\n",
    "\n",
    "# Salvando versão tratada\n",
    "dados.to_csv('../dados/dados_credito_tratados.csv', index=False)"
   ]
  }
 ],
 "metadata": {
  "kernelspec": {
   "display_name": "Python 3",
   "language": "python",
   "name": "python3"
  },
  "language_info": {
   "codemirror_mode": {
    "name": "ipython",
    "version": 3
   },
   "file_extension": ".py",
   "mimetype": "text/x-python",
   "name": "python",
   "nbconvert_exporter": "python",
   "pygments_lexer": "ipython3",
   "version": "3.12.undefined"
  }
 },
 "nbformat": 4,
 "nbformat_minor": 5
}
