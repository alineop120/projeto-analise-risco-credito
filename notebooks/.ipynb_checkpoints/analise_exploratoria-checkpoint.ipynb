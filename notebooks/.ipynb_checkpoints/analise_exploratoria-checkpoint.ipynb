{
 "cells": [
  {
   "cell_type": "markdown",
   "id": "ae38ecb2-d73d-41b8-849e-9c19665c3b8b",
   "metadata": {},
   "source": [
    "# Análise Exploratória de Dados - Risco de Crédito\n",
    "\n",
    "Este notebook realiza a análise inicial dos dados, incluindo tratamento de valores ausentes, visualizações e preparação inicial para modelagem."
   ]
  },
  {
   "cell_type": "code",
   "execution_count": null,
   "id": "14f69f49-9e5d-400d-acfb-c47557270acf",
   "metadata": {},
   "outputs": [],
   "source": [
    "# Importando bibliotecas\n",
    "import pandas as pd\n",
    "import matplotlib.pyplot as plt\n",
    "import seaborn as sns\n",
    "\n",
    "# Carregando os dados\n",
    "dados = pd.read_csv('../dados/dados_credito.csv')\n",
    "\n",
    "# Informações gerais\n",
    "dados.info()\n",
    "print(dados.describe())\n",
    "\n",
    "# Verificando valores ausentes\n",
    "print(dados.isnull().sum())\n",
    "\n",
    "# Histograma de idade\n",
    "sns.histplot(dados['idade'], kde=True)\n",
    "plt.title('Distribuição da Idade')\n",
    "plt.show()\n",
    "\n",
    "# Boxplot de renda\n",
    "sns.boxplot(x=dados['renda'])\n",
    "plt.title('Distribuição da Renda')\n",
    "plt.show()\n",
    "\n",
    "# Correlação entre variáveis numéricas\n",
    "sns.heatmap(dados.corr(), annot=True, cmap='coolwarm')\n",
    "plt.title('Mapa de Correlação')\n",
    "plt.show()\n",
    "\n",
    "# Salvando cópia dos dados para próxima etapa\n",
    "dados.to_csv('../dados/dados_credito_tratados.csv', index=False)"
   ]
  }
 ],
 "metadata": {
  "kernelspec": {
   "display_name": "Python 3 (ipykernel)",
   "language": "python",
   "name": "python3"
  },
  "language_info": {
   "codemirror_mode": {
    "name": "ipython",
    "version": 3
   },
   "file_extension": ".py",
   "mimetype": "text/x-python",
   "name": "python",
   "nbconvert_exporter": "python",
   "pygments_lexer": "ipython3",
   "version": "3.13.1"
  }
 },
 "nbformat": 4,
 "nbformat_minor": 5
}
